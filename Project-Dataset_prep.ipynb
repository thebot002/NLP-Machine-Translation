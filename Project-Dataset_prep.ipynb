{
 "cells": [
  {
   "cell_type": "code",
   "execution_count": 17,
   "id": "94a30696-9c00-4b41-8a40-6b6401f82ac4",
   "metadata": {},
   "outputs": [],
   "source": [
    "import re\n",
    "\n",
    "from nltk.tokenize import word_tokenize\n",
    "from tqdm.notebook import tqdm\n",
    "from zipfile import ZipFile"
   ]
  },
  {
   "cell_type": "code",
   "execution_count": 18,
   "id": "ac312cac-39fe-46ce-9018-bdf6d160f154",
   "metadata": {},
   "outputs": [],
   "source": [
    "line_count_total = 35_216_229"
   ]
  },
  {
   "cell_type": "code",
   "execution_count": 19,
   "id": "4e83e75d-ef72-46cb-9810-47190a82543e",
   "metadata": {},
   "outputs": [],
   "source": [
    "def clean_sentence(sentence):    \n",
    "    cleaned_sentence = []\n",
    "    for word in sentence:\n",
    "        lower_word = word.lower()\n",
    "        punc_less_word = re.sub(r'[^\\w\\s]', '', lower_word)\n",
    "        \n",
    "        if len(punc_less_word) > 0:\n",
    "            cleaned_sentence.append(punc_less_word)\n",
    "            \n",
    "    return cleaned_sentence"
   ]
  },
  {
   "cell_type": "code",
   "execution_count": 20,
   "id": "b6a9a17b-7964-4855-b690-d343bbe3a4c0",
   "metadata": {},
   "outputs": [],
   "source": [
    "def process_data(languages):\n",
    "    try:\n",
    "        zf = ZipFile('en-it.txt.zip')\n",
    "        \n",
    "        in_files = {}\n",
    "        out_files = {}\n",
    "        for lang in languages:\n",
    "            in_files[lang] = zf.open('OpenSubtitles.en-it.' + lang, 'r')\n",
    "            out_files[lang] = open(f'{lang}_corpus_processed.txt', 'w', encoding='utf-8')\n",
    "            \n",
    "        for en_sent, it_sent in tqdm(zip(in_files['en'], in_files['it']), total=line_count_total, desc='Processing lines'):\n",
    "            tok_en_sent = clean_sentence(word_tokenize(en_sent.decode(\"utf-8\").replace('\\n', ''), language='english'))\n",
    "            tok_it_sent = clean_sentence(word_tokenize(it_sent.decode(\"utf-8\").replace('\\n', ''), language='italian'))\n",
    "            \n",
    "            if len(tok_en_sent) > 0 and len(tok_it_sent) > 0:\n",
    "                out_files['en'].write(' '.join(tok_en_sent) + '\\n')\n",
    "                out_files['it'].write(' '.join(tok_it_sent) + '\\n')\n",
    "            \n",
    "    finally:\n",
    "        for lang in languages:\n",
    "            in_files[lang].close()\n",
    "            out_files[lang].close()\n",
    "            \n",
    "        zf.close()"
   ]
  },
  {
   "cell_type": "code",
   "execution_count": 21,
   "id": "3db282fe-6f03-4915-8d8b-77260d8b36e4",
   "metadata": {},
   "outputs": [
    {
     "data": {
      "application/vnd.jupyter.widget-view+json": {
       "model_id": "fb3ada9640b64725bae20edf6f5ca0d6",
       "version_major": 2,
       "version_minor": 0
      },
      "text/plain": [
       "Processing lines:   0%|          | 0/35216229 [00:00<?, ?it/s]"
      ]
     },
     "metadata": {},
     "output_type": "display_data"
    }
   ],
   "source": [
    "process_data(['en', 'it'])"
   ]
  },
  {
   "cell_type": "markdown",
   "id": "9c023cd7-65d4-4e56-a9ff-1bd104a16b3e",
   "metadata": {},
   "source": [
    "Resulting line count: 35_188_410"
   ]
  }
 ],
 "metadata": {
  "kernelspec": {
   "display_name": "Python 3 (ipykernel)",
   "language": "python",
   "name": "python3"
  },
  "language_info": {
   "codemirror_mode": {
    "name": "ipython",
    "version": 3
   },
   "file_extension": ".py",
   "mimetype": "text/x-python",
   "name": "python",
   "nbconvert_exporter": "python",
   "pygments_lexer": "ipython3",
   "version": "3.9.5"
  }
 },
 "nbformat": 4,
 "nbformat_minor": 5
}
