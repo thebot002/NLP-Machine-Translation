{
 "cells": [
  {
   "cell_type": "markdown",
   "id": "98298dd0-7d68-462c-8a94-269465b27167",
   "metadata": {},
   "source": [
    "Imports"
   ]
  },
  {
   "cell_type": "code",
   "execution_count": 1,
   "id": "857b491c-2611-45d3-b64e-851d48338159",
   "metadata": {},
   "outputs": [],
   "source": [
    "import xml.etree.ElementTree as ET\n",
    "import spacy\n",
    "import random\n",
    "import string\n",
    "import math\n",
    "\n",
    "nlp_models = {\n",
    "    'en': spacy.load('en_core_web_md'),\n",
    "    'it': spacy.load('it_core_news_md')\n",
    "}\n",
    "\n",
    "from collections import defaultdict\n",
    "from nltk import pos_tag\n",
    "from nltk.tokenize import word_tokenize\n",
    "from nltk.stem import WordNetLemmatizer\n",
    "from nltk.corpus import wordnet\n",
    "from nltk.tree import Tree\n",
    "from nltk.translate import bleu_score as bleu\n",
    "from nltk.translate import IBMModel1, AlignedSent\n",
    "from spacy import displacy\n",
    "from tqdm.notebook import tqdm\n",
    "from zipfile import ZipFile\n",
    "from operator import itemgetter"
   ]
  },
  {
   "cell_type": "markdown",
   "id": "472aa4fd-9392-4dd9-b87c-ec2281950219",
   "metadata": {},
   "source": [
    "# NLP Final Project - Rule Based Part"
   ]
  },
  {
   "cell_type": "markdown",
   "id": "f475bb85-b387-4527-8f73-a8100e9fa14f",
   "metadata": {},
   "source": [
    "## Exploration of Machine Translation Techniques using Movie Subtitles dataset\n",
    "\n",
    "Arnaud Ruymaekers, S5298338"
   ]
  },
  {
   "cell_type": "markdown",
   "id": "22f9f262-9e1b-4360-81ab-7207aba54a90",
   "metadata": {},
   "source": [
    "---\n",
    "\n",
    "Description: \n",
    "\n",
    "I would like to explore developping 3 different techniques to perform Machine Translation. \n",
    "I would like to implement and compare implementations of a Statistical, Rule-Based and Neural Machine Translation.\n",
    "I will attempt to implement these techniques from scratch (not using libraries to do the whole thing) to understand how they work on a deeper level.\n",
    "I plan to implement this in python and to use as dataset sentence correspondances from movies subtitles EN <-> IT coming from opensubtitles.org .\n",
    "\n",
    "Feedback:\n",
    "\n",
    "If you will develop 3 different techniques, the project will be for sure hard. As a B-plan, you might downgrade to developing 2 techniques only, \n",
    "to make sure to stay in about 7 to 10 days of work"
   ]
  },
  {
   "cell_type": "markdown",
   "id": "d02e868b-a7b5-4230-b320-f1875e837ef9",
   "metadata": {},
   "source": [
    "---\n",
    "\n",
    "### Introduction (TODO)\n",
    "\n"
   ]
  },
  {
   "cell_type": "markdown",
   "id": "96440675-cc5d-4b5d-a2fa-922877f43ef1",
   "metadata": {},
   "source": [
    "## Datasets Prep"
   ]
  },
  {
   "cell_type": "code",
   "execution_count": 3,
   "id": "aa13dbb4-4d76-4700-a511-00931c33e5a4",
   "metadata": {},
   "outputs": [],
   "source": [
    "line_count_total = 35_216_229\n",
    "file_name = 'OpenSubtitles.en-it.'\n",
    "languages = ['en', 'it']"
   ]
  },
  {
   "cell_type": "markdown",
   "id": "b70264a9-0048-4aa3-b062-56f4bd3c5658",
   "metadata": {},
   "source": [
    "### Text Subtitles"
   ]
  },
  {
   "cell_type": "code",
   "execution_count": 4,
   "id": "4097c139-a620-4701-8325-e204c67291df",
   "metadata": {},
   "outputs": [],
   "source": [
    "def extract_file(file_name, lang='en', line_count=None, from_line=0, tokenize=True) -> dict:\n",
    "    \n",
    "    if line_count is None:\n",
    "        line_count = line_count_total\n",
    "        \n",
    "    assert (from_line+line_count <= line_count_total), f'line_count + from_line should be under {line_count_total} (it is currently {line_count+from_line})'\n",
    "    \n",
    "    file_lines = []\n",
    "    \n",
    "    with ZipFile('en-it.txt.zip') as zf:\n",
    "        with zf.open(file_name + lang, 'r') as f:\n",
    "\n",
    "            for i, line in tqdm(enumerate(f), total=from_line+line_count, desc=f'Reading {lang.upper()} language file'):\n",
    "                if i < from_line:\n",
    "                    continue\n",
    "                elif i < from_line+line_count:\n",
    "                    decoded_line = line.decode(\"utf-8\").replace('\\n', '')\n",
    "                    file_lines.append(word_tokenize(decoded_line) if tokenize else decoded_line)\n",
    "                else:\n",
    "                    break\n",
    "\n",
    "    return file_lines"
   ]
  },
  {
   "cell_type": "code",
   "execution_count": 5,
   "id": "fa778989-db05-4d4d-90e1-07e984e44516",
   "metadata": {},
   "outputs": [
    {
     "data": {
      "application/vnd.jupyter.widget-view+json": {
       "model_id": "afaf196e21a04be29fd9be11bef6c98a",
       "version_major": 2,
       "version_minor": 0
      },
      "text/plain": [
       "Reading EN language file:   0%|          | 0/100000 [00:00<?, ?it/s]"
      ]
     },
     "metadata": {},
     "output_type": "display_data"
    },
    {
     "data": {
      "application/vnd.jupyter.widget-view+json": {
       "model_id": "de1c8db7c4da4c8db32cc0de303ee007",
       "version_major": 2,
       "version_minor": 0
      },
      "text/plain": [
       "Reading IT language file:   0%|          | 0/100000 [00:00<?, ?it/s]"
      ]
     },
     "metadata": {},
     "output_type": "display_data"
    }
   ],
   "source": [
    "# Extracting 100k sentences for now\n",
    "sentences = {}\n",
    "for lang in languages:\n",
    "    sentences[lang] = extract_file(file_name, lang, 100_000, tokenize=False)"
   ]
  },
  {
   "cell_type": "code",
   "execution_count": 6,
   "id": "bd3af910-ce49-4029-baac-e858d63801fd",
   "metadata": {},
   "outputs": [
    {
     "name": "stdout",
     "output_type": "stream",
     "text": [
      "Sample 0:\n",
      "\tPermaculture is a design science based on three simple ethics:\n",
      "\t\t=> La permacultura è un metodo di progettazione basato su tre semplici principi etici:\n",
      "Sample 1:\n",
      "\tcare for the earth\n",
      "\t\t=> cura della terra\n",
      "Sample 2:\n",
      "\tcare for people\n",
      "\t\t=> cura delle persone\n",
      "Sample 3:\n",
      "\tshare the surplus\n",
      "\t\t=> Condividi il superfluo\n",
      "Sample 4:\n",
      "\tPermaculture also has core principles They guide us in creating sustainable abundance\n",
      "\t\t=> La permacultura ha anche principi cardine le linee guida per la creazione di abbondanza sostenibile\n"
     ]
    }
   ],
   "source": [
    "# Printing some samples\n",
    "for i in range(5):\n",
    "    print(f'Sample {i}:')\n",
    "    print('\\t' + sentences['en'][i])\n",
    "    print('\\t\\t=> ' + sentences['it'][i])"
   ]
  },
  {
   "cell_type": "markdown",
   "id": "df4d6ae5-4fb6-42be-b1fe-6e1f7dfd4bfa",
   "metadata": {},
   "source": [
    "## Evaluation Strategy"
   ]
  },
  {
   "cell_type": "code",
   "execution_count": 7,
   "id": "318df0dd-aec4-43a9-a6fb-59331862c2b7",
   "metadata": {},
   "outputs": [],
   "source": [
    "def evaluate_translation(ref_translations:list, translations:list, max_n=None):\n",
    "    assert len(ref_translations) == len(translations), 'There should be as many reference translations as translations'\n",
    "    \n",
    "    if not max_n:\n",
    "        max_n = 4\n",
    "    \n",
    "    weights = [1/(max_n) for i in range(max_n)]\n",
    "    \n",
    "    n = len(ref_translations)\n",
    "    scores = []\n",
    "    \n",
    "    for i, ref_trans in tqdm(enumerate(ref_translations), total=n, desc='Evaluation'):\n",
    "        trans = translations[i]\n",
    "        scores.append(bleu.sentence_bleu(ref_trans, trans, weights=weights))\n",
    "        \n",
    "    return sum(scores)/n"
   ]
  },
  {
   "cell_type": "markdown",
   "id": "6f7975d1-7df5-4b51-a293-557511952642",
   "metadata": {
    "tags": []
   },
   "source": [
    "## Rule-Based Machine Translation Intro (RBMT)"
   ]
  },
  {
   "cell_type": "markdown",
   "id": "bfc6b06a-91c9-4abe-a734-9f005bde101d",
   "metadata": {},
   "source": [
    "3 Options: Direct, Transfer, Interlingual (insert image)\n",
    "\n",
    "Steps from Source Language (SL) to Target Language (TL)\n",
    "\n",
    "---\n",
    "\n",
    "Sentences in SL\n",
    "\n",
    "-> Tokenization: The segments are further divided into individual words or tokens, which can then be processed individually. (We Can stop here for direct translation)\n",
    "\n",
    "    -> Part-of-speech tagging: Each token is labeled with its part of speech, such as noun, verb, adjective, etc.\n",
    "\n",
    "    -> Morphological analysis: The inflectional and derivational forms of the words are identified and analyzed.\n",
    "\n",
    "        -> Syntactic parsing: The grammatical structure of the sentences is analyzed and represented in a tree-like structure. (Syntactic Transfer)\n",
    "\n",
    "            -> Semantic analysis: The meanings of the words and phrases in the sentence are extracted and represented in a formal representation, such as semantic frames or predicate-argument structures. (Semantic Transfer)\n",
    "\n",
    "                -> Interlingual generation: The extracted meanings are used to generate a target language text that conveys the same information as the source text.\n",
    "\n",
    "            <- Language-specific generation: The text generated in the previous step is transformed into a grammatically and idiomatically correct target language text.\n",
    "            \n",
    "Sentences in TL\n",
    "\n",
    "---\n",
    "\n",
    "Here we will only attempt to build from scratch up to a simple version of Syntactic Transfer. Interlingual translation is too complicated to be built here.\n",
    "\n",
    "A fully built version of RBMT will be used however for comparisson."
   ]
  },
  {
   "cell_type": "markdown",
   "id": "bc6683b1-89e3-4ea6-b0f6-3f3922d999d2",
   "metadata": {},
   "source": [
    "## Direct Translation (TODO)"
   ]
  },
  {
   "cell_type": "code",
   "execution_count": 8,
   "id": "1bb0eeac-7d28-4fd6-872a-e5e24cfa1ed8",
   "metadata": {},
   "outputs": [],
   "source": [
    "### Building Translation layer\n",
    "\n",
    "# from pytranslate import Translator\n",
    "\n",
    "# # Create an English parse tree\n",
    "# english_tree = Tree.fromstring(\"(S (NP (DT the) (JJ quick) (JJ brown) (NN fox)) (VP (VBD ran) (RB quickly) (PP (IN in) (NP (DT the) (NN forest)))))\n",
    "\n",
    "# # Flatten the tree to make it a sentence\n",
    "# leaves = english_tree.flatten()\n",
    "# text = \" \".join(leaves)\n",
    "\n",
    "# # Initialize the translator\n",
    "# translator = Translator(from_lang='en', to_lang=\"it\")\n",
    "\n",
    "# # Translate the text\n",
    "# it_text = translator.translate(text)\n",
    "\n",
    "# # Print the translation\n",
    "# print(it_text)"
   ]
  },
  {
   "cell_type": "markdown",
   "id": "aec8f2bf-8f14-4d25-92b7-354d3650b5b2",
   "metadata": {},
   "source": [
    "## Semantic Transfer Translation"
   ]
  },
  {
   "cell_type": "markdown",
   "id": "7f002892-e90d-43c5-8ab4-68fddcb23dde",
   "metadata": {},
   "source": [
    "### Loading sentences in Spacy\n",
    "\n",
    "This is to extract the POS of each token and do the Morfological analysis."
   ]
  },
  {
   "cell_type": "code",
   "execution_count": 9,
   "id": "d9397c1e-9d94-4121-8039-f7949c83b8d3",
   "metadata": {},
   "outputs": [
    {
     "name": "stdout",
     "output_type": "stream",
     "text": [
      "Loading EN sentences as Spacy docs:\n"
     ]
    },
    {
     "data": {
      "application/vnd.jupyter.widget-view+json": {
       "model_id": "32af38ba42374cfcb42c112d16c7a949",
       "version_major": 2,
       "version_minor": 0
      },
      "text/plain": [
       "  0%|          | 0/100000 [00:00<?, ?it/s]"
      ]
     },
     "metadata": {},
     "output_type": "display_data"
    },
    {
     "name": "stdout",
     "output_type": "stream",
     "text": [
      "Loading IT sentences as Spacy docs:\n"
     ]
    },
    {
     "data": {
      "application/vnd.jupyter.widget-view+json": {
       "model_id": "5b8ff1758ea24b92ada71ba317260951",
       "version_major": 2,
       "version_minor": 0
      },
      "text/plain": [
       "  0%|          | 0/100000 [00:00<?, ?it/s]"
      ]
     },
     "metadata": {},
     "output_type": "display_data"
    }
   ],
   "source": [
    "docs = {}\n",
    "for lang in languages:\n",
    "    print(f'Loading {lang.upper()} sentences as Spacy docs:')\n",
    "    docs[lang] = [nlp_models[lang](sent) for sent in tqdm(sentences[lang])]"
   ]
  },
  {
   "cell_type": "markdown",
   "id": "78b35a15-8bbe-44e7-9035-59ba7f81425d",
   "metadata": {},
   "source": [
    "### POS tagging"
   ]
  },
  {
   "cell_type": "code",
   "execution_count": 10,
   "id": "557796dc-3f98-4793-9832-f46a2c475259",
   "metadata": {},
   "outputs": [],
   "source": [
    "def retrieve_pos_tags(doc):\n",
    "    output = []\n",
    "    for sentence in tqdm(doc):\n",
    "        output.append([(token.text, token.pos_) for token in sentence])\n",
    "    return output"
   ]
  },
  {
   "cell_type": "code",
   "execution_count": 11,
   "id": "53324836-19d1-4c6e-8d4c-794839877ddb",
   "metadata": {},
   "outputs": [
    {
     "name": "stdout",
     "output_type": "stream",
     "text": [
      "Retrieving POS tag for EN doc:\n"
     ]
    },
    {
     "data": {
      "application/vnd.jupyter.widget-view+json": {
       "model_id": "e6e8a66099344115b160a7be68c768a8",
       "version_major": 2,
       "version_minor": 0
      },
      "text/plain": [
       "  0%|          | 0/100000 [00:00<?, ?it/s]"
      ]
     },
     "metadata": {},
     "output_type": "display_data"
    },
    {
     "name": "stdout",
     "output_type": "stream",
     "text": [
      "Retrieving POS tag for IT doc:\n"
     ]
    },
    {
     "data": {
      "application/vnd.jupyter.widget-view+json": {
       "model_id": "371b0c572d454a859673922bf41d5465",
       "version_major": 2,
       "version_minor": 0
      },
      "text/plain": [
       "  0%|          | 0/100000 [00:00<?, ?it/s]"
      ]
     },
     "metadata": {},
     "output_type": "display_data"
    }
   ],
   "source": [
    "pos_tags = {}\n",
    "for lang in languages:\n",
    "    print(f'Retrieving POS tag for {lang.upper()} doc:')\n",
    "    pos_tags[lang] = retrieve_pos_tags(docs[lang])"
   ]
  },
  {
   "cell_type": "code",
   "execution_count": 12,
   "id": "213d4fb0-3992-4019-a07e-ffa3ff3bc04b",
   "metadata": {},
   "outputs": [
    {
     "name": "stdout",
     "output_type": "stream",
     "text": [
      "[('Permaculture', 'NOUN'), ('is', 'AUX'), ('a', 'DET'), ('design', 'NOUN'), ('science', 'NOUN'), ('based', 'VERB'), ('on', 'ADP'), ('three', 'NUM'), ('simple', 'ADJ'), ('ethics', 'NOUN'), (':', 'PUNCT')]\n",
      " =>\n",
      "[('La', 'DET'), ('permacultura', 'NOUN'), ('è', 'AUX'), ('un', 'DET'), ('metodo', 'NOUN'), ('di', 'ADP'), ('progettazione', 'NOUN'), ('basato', 'ADJ'), ('su', 'ADP'), ('tre', 'NUM'), ('semplici', 'ADJ'), ('principi', 'NOUN'), ('etici', 'ADJ'), (':', 'PUNCT')]\n"
     ]
    }
   ],
   "source": [
    "print(pos_tags['en'][0])\n",
    "print(' =>')\n",
    "print(pos_tags['it'][0])"
   ]
  },
  {
   "cell_type": "markdown",
   "id": "879b0026-8dc9-48d5-9f98-452cfa5cce33",
   "metadata": {},
   "source": [
    "### Morfological analysis"
   ]
  },
  {
   "cell_type": "code",
   "execution_count": 13,
   "id": "44141d99-3bde-47b3-bace-44816b70654d",
   "metadata": {},
   "outputs": [],
   "source": [
    "def morfo_analysis(doc):\n",
    "    output = []\n",
    "    for sentence in tqdm(doc):\n",
    "        output.append([(token.text, token.pos_, token.lemma_) for token in sentence])\n",
    "    return output"
   ]
  },
  {
   "cell_type": "code",
   "execution_count": 14,
   "id": "b98988ad-7007-4b83-ad46-b516a893cd5e",
   "metadata": {},
   "outputs": [
    {
     "name": "stdout",
     "output_type": "stream",
     "text": [
      "Retrieving Lemmas and POS tag for EN doc:\n"
     ]
    },
    {
     "data": {
      "application/vnd.jupyter.widget-view+json": {
       "model_id": "fc01fcf082ed42619b964f2105218237",
       "version_major": 2,
       "version_minor": 0
      },
      "text/plain": [
       "  0%|          | 0/100000 [00:00<?, ?it/s]"
      ]
     },
     "metadata": {},
     "output_type": "display_data"
    },
    {
     "name": "stdout",
     "output_type": "stream",
     "text": [
      "Retrieving Lemmas and POS tag for IT doc:\n"
     ]
    },
    {
     "data": {
      "application/vnd.jupyter.widget-view+json": {
       "model_id": "2147da0101a740b4906c56e8218bd51e",
       "version_major": 2,
       "version_minor": 0
      },
      "text/plain": [
       "  0%|          | 0/100000 [00:00<?, ?it/s]"
      ]
     },
     "metadata": {},
     "output_type": "display_data"
    }
   ],
   "source": [
    "lem_pos_tags = {}\n",
    "for lang in languages:\n",
    "    print(f'Retrieving Lemmas and POS tag for {lang.upper()} doc:')\n",
    "    lem_pos_tags[lang] = morfo_analysis(docs[lang])"
   ]
  },
  {
   "cell_type": "code",
   "execution_count": 15,
   "id": "f35b2cef-46ec-4714-b0dd-de692486ae29",
   "metadata": {},
   "outputs": [
    {
     "name": "stdout",
     "output_type": "stream",
     "text": [
      "[('Permaculture', 'NOUN', 'permaculture'), ('is', 'AUX', 'be'), ('a', 'DET', 'a'), ('design', 'NOUN', 'design'), ('science', 'NOUN', 'science'), ('based', 'VERB', 'base'), ('on', 'ADP', 'on'), ('three', 'NUM', 'three'), ('simple', 'ADJ', 'simple'), ('ethics', 'NOUN', 'ethic'), (':', 'PUNCT', ':')]\n",
      " =>\n",
      "[('La', 'DET', 'il'), ('permacultura', 'NOUN', 'permacultura'), ('è', 'AUX', 'essere'), ('un', 'DET', 'uno'), ('metodo', 'NOUN', 'metodo'), ('di', 'ADP', 'di'), ('progettazione', 'NOUN', 'progettazione'), ('basato', 'ADJ', 'basato'), ('su', 'ADP', 'su'), ('tre', 'NUM', 'tre'), ('semplici', 'ADJ', 'semplice'), ('principi', 'NOUN', 'principio'), ('etici', 'ADJ', 'etico'), (':', 'PUNCT', ':')]\n"
     ]
    }
   ],
   "source": [
    "print(lem_pos_tags['en'][0])\n",
    "print(' =>')\n",
    "print(lem_pos_tags['it'][0])"
   ]
  },
  {
   "cell_type": "markdown",
   "id": "8aa0c7a5-1832-4f6b-9133-0afb22f43c8a",
   "metadata": {},
   "source": [
    "In the first example, you might find it interesting to see how the lemmatizer converts the verb \"running\" to its base form \"run\", and how it converts the adjective \"late\" to its base form \"late\"."
   ]
  },
  {
   "cell_type": "markdown",
   "id": "2ef091c4-404d-44f3-aeb4-c980fcc78e38",
   "metadata": {},
   "source": [
    "### Syntactic parsing"
   ]
  },
  {
   "cell_type": "code",
   "execution_count": 16,
   "id": "080d1e0f-e61e-401f-92f2-039cc6070e12",
   "metadata": {
    "tags": []
   },
   "outputs": [
    {
     "data": {
      "text/html": [
       "<span class=\"tex2jax_ignore\"><svg xmlns=\"http://www.w3.org/2000/svg\" xmlns:xlink=\"http://www.w3.org/1999/xlink\" xml:lang=\"en\" id=\"c8e8f735674d45e7b5b50efba439b249-0\" class=\"displacy\" width=\"1050\" height=\"287.0\" direction=\"ltr\" style=\"max-width: none; height: 287.0px; color: #000000; background: #ffffff; font-family: Arial; direction: ltr\">\n",
       "<text class=\"displacy-token\" fill=\"currentColor\" text-anchor=\"middle\" y=\"197.0\">\n",
       "    <tspan class=\"displacy-word\" fill=\"currentColor\" x=\"50\">Permaculture</tspan>\n",
       "    <tspan class=\"displacy-tag\" dy=\"2em\" fill=\"currentColor\" x=\"50\">NOUN</tspan>\n",
       "</text>\n",
       "\n",
       "<text class=\"displacy-token\" fill=\"currentColor\" text-anchor=\"middle\" y=\"197.0\">\n",
       "    <tspan class=\"displacy-word\" fill=\"currentColor\" x=\"150\">is</tspan>\n",
       "    <tspan class=\"displacy-tag\" dy=\"2em\" fill=\"currentColor\" x=\"150\">AUX</tspan>\n",
       "</text>\n",
       "\n",
       "<text class=\"displacy-token\" fill=\"currentColor\" text-anchor=\"middle\" y=\"197.0\">\n",
       "    <tspan class=\"displacy-word\" fill=\"currentColor\" x=\"250\">a</tspan>\n",
       "    <tspan class=\"displacy-tag\" dy=\"2em\" fill=\"currentColor\" x=\"250\">DET</tspan>\n",
       "</text>\n",
       "\n",
       "<text class=\"displacy-token\" fill=\"currentColor\" text-anchor=\"middle\" y=\"197.0\">\n",
       "    <tspan class=\"displacy-word\" fill=\"currentColor\" x=\"350\">design</tspan>\n",
       "    <tspan class=\"displacy-tag\" dy=\"2em\" fill=\"currentColor\" x=\"350\">NOUN</tspan>\n",
       "</text>\n",
       "\n",
       "<text class=\"displacy-token\" fill=\"currentColor\" text-anchor=\"middle\" y=\"197.0\">\n",
       "    <tspan class=\"displacy-word\" fill=\"currentColor\" x=\"450\">science</tspan>\n",
       "    <tspan class=\"displacy-tag\" dy=\"2em\" fill=\"currentColor\" x=\"450\">NOUN</tspan>\n",
       "</text>\n",
       "\n",
       "<text class=\"displacy-token\" fill=\"currentColor\" text-anchor=\"middle\" y=\"197.0\">\n",
       "    <tspan class=\"displacy-word\" fill=\"currentColor\" x=\"550\">based</tspan>\n",
       "    <tspan class=\"displacy-tag\" dy=\"2em\" fill=\"currentColor\" x=\"550\">VERB</tspan>\n",
       "</text>\n",
       "\n",
       "<text class=\"displacy-token\" fill=\"currentColor\" text-anchor=\"middle\" y=\"197.0\">\n",
       "    <tspan class=\"displacy-word\" fill=\"currentColor\" x=\"650\">on</tspan>\n",
       "    <tspan class=\"displacy-tag\" dy=\"2em\" fill=\"currentColor\" x=\"650\">ADP</tspan>\n",
       "</text>\n",
       "\n",
       "<text class=\"displacy-token\" fill=\"currentColor\" text-anchor=\"middle\" y=\"197.0\">\n",
       "    <tspan class=\"displacy-word\" fill=\"currentColor\" x=\"750\">three</tspan>\n",
       "    <tspan class=\"displacy-tag\" dy=\"2em\" fill=\"currentColor\" x=\"750\">NUM</tspan>\n",
       "</text>\n",
       "\n",
       "<text class=\"displacy-token\" fill=\"currentColor\" text-anchor=\"middle\" y=\"197.0\">\n",
       "    <tspan class=\"displacy-word\" fill=\"currentColor\" x=\"850\">simple</tspan>\n",
       "    <tspan class=\"displacy-tag\" dy=\"2em\" fill=\"currentColor\" x=\"850\">ADJ</tspan>\n",
       "</text>\n",
       "\n",
       "<text class=\"displacy-token\" fill=\"currentColor\" text-anchor=\"middle\" y=\"197.0\">\n",
       "    <tspan class=\"displacy-word\" fill=\"currentColor\" x=\"950\">ethics:</tspan>\n",
       "    <tspan class=\"displacy-tag\" dy=\"2em\" fill=\"currentColor\" x=\"950\">NOUN</tspan>\n",
       "</text>\n",
       "\n",
       "<g class=\"displacy-arrow\">\n",
       "    <path class=\"displacy-arc\" id=\"arrow-c8e8f735674d45e7b5b50efba439b249-0-0\" stroke-width=\"2px\" d=\"M62,152.0 62,135.33333333333334 144.0,135.33333333333334 144.0,152.0\" fill=\"none\" stroke=\"currentColor\"/>\n",
       "    <text dy=\"1.25em\" style=\"font-size: 0.8em; letter-spacing: 1px\">\n",
       "        <textPath xlink:href=\"#arrow-c8e8f735674d45e7b5b50efba439b249-0-0\" class=\"displacy-label\" startOffset=\"50%\" side=\"left\" fill=\"currentColor\" text-anchor=\"middle\">nsubj</textPath>\n",
       "    </text>\n",
       "    <path class=\"displacy-arrowhead\" d=\"M62,154.0 L58,146.0 66,146.0\" fill=\"currentColor\"/>\n",
       "</g>\n",
       "\n",
       "<g class=\"displacy-arrow\">\n",
       "    <path class=\"displacy-arc\" id=\"arrow-c8e8f735674d45e7b5b50efba439b249-0-1\" stroke-width=\"2px\" d=\"M262,152.0 262,118.66666666666666 447.0,118.66666666666666 447.0,152.0\" fill=\"none\" stroke=\"currentColor\"/>\n",
       "    <text dy=\"1.25em\" style=\"font-size: 0.8em; letter-spacing: 1px\">\n",
       "        <textPath xlink:href=\"#arrow-c8e8f735674d45e7b5b50efba439b249-0-1\" class=\"displacy-label\" startOffset=\"50%\" side=\"left\" fill=\"currentColor\" text-anchor=\"middle\">det</textPath>\n",
       "    </text>\n",
       "    <path class=\"displacy-arrowhead\" d=\"M262,154.0 L258,146.0 266,146.0\" fill=\"currentColor\"/>\n",
       "</g>\n",
       "\n",
       "<g class=\"displacy-arrow\">\n",
       "    <path class=\"displacy-arc\" id=\"arrow-c8e8f735674d45e7b5b50efba439b249-0-2\" stroke-width=\"2px\" d=\"M362,152.0 362,135.33333333333334 444.0,135.33333333333334 444.0,152.0\" fill=\"none\" stroke=\"currentColor\"/>\n",
       "    <text dy=\"1.25em\" style=\"font-size: 0.8em; letter-spacing: 1px\">\n",
       "        <textPath xlink:href=\"#arrow-c8e8f735674d45e7b5b50efba439b249-0-2\" class=\"displacy-label\" startOffset=\"50%\" side=\"left\" fill=\"currentColor\" text-anchor=\"middle\">compound</textPath>\n",
       "    </text>\n",
       "    <path class=\"displacy-arrowhead\" d=\"M362,154.0 L358,146.0 366,146.0\" fill=\"currentColor\"/>\n",
       "</g>\n",
       "\n",
       "<g class=\"displacy-arrow\">\n",
       "    <path class=\"displacy-arc\" id=\"arrow-c8e8f735674d45e7b5b50efba439b249-0-3\" stroke-width=\"2px\" d=\"M162,152.0 162,102.0 450.0,102.0 450.0,152.0\" fill=\"none\" stroke=\"currentColor\"/>\n",
       "    <text dy=\"1.25em\" style=\"font-size: 0.8em; letter-spacing: 1px\">\n",
       "        <textPath xlink:href=\"#arrow-c8e8f735674d45e7b5b50efba439b249-0-3\" class=\"displacy-label\" startOffset=\"50%\" side=\"left\" fill=\"currentColor\" text-anchor=\"middle\">attr</textPath>\n",
       "    </text>\n",
       "    <path class=\"displacy-arrowhead\" d=\"M450.0,154.0 L454.0,146.0 446.0,146.0\" fill=\"currentColor\"/>\n",
       "</g>\n",
       "\n",
       "<g class=\"displacy-arrow\">\n",
       "    <path class=\"displacy-arc\" id=\"arrow-c8e8f735674d45e7b5b50efba439b249-0-4\" stroke-width=\"2px\" d=\"M462,152.0 462,135.33333333333334 544.0,135.33333333333334 544.0,152.0\" fill=\"none\" stroke=\"currentColor\"/>\n",
       "    <text dy=\"1.25em\" style=\"font-size: 0.8em; letter-spacing: 1px\">\n",
       "        <textPath xlink:href=\"#arrow-c8e8f735674d45e7b5b50efba439b249-0-4\" class=\"displacy-label\" startOffset=\"50%\" side=\"left\" fill=\"currentColor\" text-anchor=\"middle\">acl</textPath>\n",
       "    </text>\n",
       "    <path class=\"displacy-arrowhead\" d=\"M544.0,154.0 L548.0,146.0 540.0,146.0\" fill=\"currentColor\"/>\n",
       "</g>\n",
       "\n",
       "<g class=\"displacy-arrow\">\n",
       "    <path class=\"displacy-arc\" id=\"arrow-c8e8f735674d45e7b5b50efba439b249-0-5\" stroke-width=\"2px\" d=\"M562,152.0 562,135.33333333333334 644.0,135.33333333333334 644.0,152.0\" fill=\"none\" stroke=\"currentColor\"/>\n",
       "    <text dy=\"1.25em\" style=\"font-size: 0.8em; letter-spacing: 1px\">\n",
       "        <textPath xlink:href=\"#arrow-c8e8f735674d45e7b5b50efba439b249-0-5\" class=\"displacy-label\" startOffset=\"50%\" side=\"left\" fill=\"currentColor\" text-anchor=\"middle\">prep</textPath>\n",
       "    </text>\n",
       "    <path class=\"displacy-arrowhead\" d=\"M644.0,154.0 L648.0,146.0 640.0,146.0\" fill=\"currentColor\"/>\n",
       "</g>\n",
       "\n",
       "<g class=\"displacy-arrow\">\n",
       "    <path class=\"displacy-arc\" id=\"arrow-c8e8f735674d45e7b5b50efba439b249-0-6\" stroke-width=\"2px\" d=\"M762,152.0 762,118.66666666666666 947.0,118.66666666666666 947.0,152.0\" fill=\"none\" stroke=\"currentColor\"/>\n",
       "    <text dy=\"1.25em\" style=\"font-size: 0.8em; letter-spacing: 1px\">\n",
       "        <textPath xlink:href=\"#arrow-c8e8f735674d45e7b5b50efba439b249-0-6\" class=\"displacy-label\" startOffset=\"50%\" side=\"left\" fill=\"currentColor\" text-anchor=\"middle\">nummod</textPath>\n",
       "    </text>\n",
       "    <path class=\"displacy-arrowhead\" d=\"M762,154.0 L758,146.0 766,146.0\" fill=\"currentColor\"/>\n",
       "</g>\n",
       "\n",
       "<g class=\"displacy-arrow\">\n",
       "    <path class=\"displacy-arc\" id=\"arrow-c8e8f735674d45e7b5b50efba439b249-0-7\" stroke-width=\"2px\" d=\"M862,152.0 862,135.33333333333334 944.0,135.33333333333334 944.0,152.0\" fill=\"none\" stroke=\"currentColor\"/>\n",
       "    <text dy=\"1.25em\" style=\"font-size: 0.8em; letter-spacing: 1px\">\n",
       "        <textPath xlink:href=\"#arrow-c8e8f735674d45e7b5b50efba439b249-0-7\" class=\"displacy-label\" startOffset=\"50%\" side=\"left\" fill=\"currentColor\" text-anchor=\"middle\">amod</textPath>\n",
       "    </text>\n",
       "    <path class=\"displacy-arrowhead\" d=\"M862,154.0 L858,146.0 866,146.0\" fill=\"currentColor\"/>\n",
       "</g>\n",
       "\n",
       "<g class=\"displacy-arrow\">\n",
       "    <path class=\"displacy-arc\" id=\"arrow-c8e8f735674d45e7b5b50efba439b249-0-8\" stroke-width=\"2px\" d=\"M662,152.0 662,102.0 950.0,102.0 950.0,152.0\" fill=\"none\" stroke=\"currentColor\"/>\n",
       "    <text dy=\"1.25em\" style=\"font-size: 0.8em; letter-spacing: 1px\">\n",
       "        <textPath xlink:href=\"#arrow-c8e8f735674d45e7b5b50efba439b249-0-8\" class=\"displacy-label\" startOffset=\"50%\" side=\"left\" fill=\"currentColor\" text-anchor=\"middle\">pobj</textPath>\n",
       "    </text>\n",
       "    <path class=\"displacy-arrowhead\" d=\"M950.0,154.0 L954.0,146.0 946.0,146.0\" fill=\"currentColor\"/>\n",
       "</g>\n",
       "</svg></span>"
      ],
      "text/plain": [
       "<IPython.core.display.HTML object>"
      ]
     },
     "metadata": {},
     "output_type": "display_data"
    },
    {
     "data": {
      "text/html": [
       "<span class=\"tex2jax_ignore\"><svg xmlns=\"http://www.w3.org/2000/svg\" xmlns:xlink=\"http://www.w3.org/1999/xlink\" xml:lang=\"it\" id=\"be7462e2656446ac9febd40c22e9931f-0\" class=\"displacy\" width=\"1350\" height=\"337.0\" direction=\"ltr\" style=\"max-width: none; height: 337.0px; color: #000000; background: #ffffff; font-family: Arial; direction: ltr\">\n",
       "<text class=\"displacy-token\" fill=\"currentColor\" text-anchor=\"middle\" y=\"247.0\">\n",
       "    <tspan class=\"displacy-word\" fill=\"currentColor\" x=\"50\">La</tspan>\n",
       "    <tspan class=\"displacy-tag\" dy=\"2em\" fill=\"currentColor\" x=\"50\">DET</tspan>\n",
       "</text>\n",
       "\n",
       "<text class=\"displacy-token\" fill=\"currentColor\" text-anchor=\"middle\" y=\"247.0\">\n",
       "    <tspan class=\"displacy-word\" fill=\"currentColor\" x=\"150\">permacultura</tspan>\n",
       "    <tspan class=\"displacy-tag\" dy=\"2em\" fill=\"currentColor\" x=\"150\">NOUN</tspan>\n",
       "</text>\n",
       "\n",
       "<text class=\"displacy-token\" fill=\"currentColor\" text-anchor=\"middle\" y=\"247.0\">\n",
       "    <tspan class=\"displacy-word\" fill=\"currentColor\" x=\"250\">è</tspan>\n",
       "    <tspan class=\"displacy-tag\" dy=\"2em\" fill=\"currentColor\" x=\"250\">AUX</tspan>\n",
       "</text>\n",
       "\n",
       "<text class=\"displacy-token\" fill=\"currentColor\" text-anchor=\"middle\" y=\"247.0\">\n",
       "    <tspan class=\"displacy-word\" fill=\"currentColor\" x=\"350\">un</tspan>\n",
       "    <tspan class=\"displacy-tag\" dy=\"2em\" fill=\"currentColor\" x=\"350\">DET</tspan>\n",
       "</text>\n",
       "\n",
       "<text class=\"displacy-token\" fill=\"currentColor\" text-anchor=\"middle\" y=\"247.0\">\n",
       "    <tspan class=\"displacy-word\" fill=\"currentColor\" x=\"450\">metodo</tspan>\n",
       "    <tspan class=\"displacy-tag\" dy=\"2em\" fill=\"currentColor\" x=\"450\">NOUN</tspan>\n",
       "</text>\n",
       "\n",
       "<text class=\"displacy-token\" fill=\"currentColor\" text-anchor=\"middle\" y=\"247.0\">\n",
       "    <tspan class=\"displacy-word\" fill=\"currentColor\" x=\"550\">di</tspan>\n",
       "    <tspan class=\"displacy-tag\" dy=\"2em\" fill=\"currentColor\" x=\"550\">ADP</tspan>\n",
       "</text>\n",
       "\n",
       "<text class=\"displacy-token\" fill=\"currentColor\" text-anchor=\"middle\" y=\"247.0\">\n",
       "    <tspan class=\"displacy-word\" fill=\"currentColor\" x=\"650\">progettazione</tspan>\n",
       "    <tspan class=\"displacy-tag\" dy=\"2em\" fill=\"currentColor\" x=\"650\">NOUN</tspan>\n",
       "</text>\n",
       "\n",
       "<text class=\"displacy-token\" fill=\"currentColor\" text-anchor=\"middle\" y=\"247.0\">\n",
       "    <tspan class=\"displacy-word\" fill=\"currentColor\" x=\"750\">basato</tspan>\n",
       "    <tspan class=\"displacy-tag\" dy=\"2em\" fill=\"currentColor\" x=\"750\">ADJ</tspan>\n",
       "</text>\n",
       "\n",
       "<text class=\"displacy-token\" fill=\"currentColor\" text-anchor=\"middle\" y=\"247.0\">\n",
       "    <tspan class=\"displacy-word\" fill=\"currentColor\" x=\"850\">su</tspan>\n",
       "    <tspan class=\"displacy-tag\" dy=\"2em\" fill=\"currentColor\" x=\"850\">ADP</tspan>\n",
       "</text>\n",
       "\n",
       "<text class=\"displacy-token\" fill=\"currentColor\" text-anchor=\"middle\" y=\"247.0\">\n",
       "    <tspan class=\"displacy-word\" fill=\"currentColor\" x=\"950\">tre</tspan>\n",
       "    <tspan class=\"displacy-tag\" dy=\"2em\" fill=\"currentColor\" x=\"950\">NUM</tspan>\n",
       "</text>\n",
       "\n",
       "<text class=\"displacy-token\" fill=\"currentColor\" text-anchor=\"middle\" y=\"247.0\">\n",
       "    <tspan class=\"displacy-word\" fill=\"currentColor\" x=\"1050\">semplici</tspan>\n",
       "    <tspan class=\"displacy-tag\" dy=\"2em\" fill=\"currentColor\" x=\"1050\">ADJ</tspan>\n",
       "</text>\n",
       "\n",
       "<text class=\"displacy-token\" fill=\"currentColor\" text-anchor=\"middle\" y=\"247.0\">\n",
       "    <tspan class=\"displacy-word\" fill=\"currentColor\" x=\"1150\">principi</tspan>\n",
       "    <tspan class=\"displacy-tag\" dy=\"2em\" fill=\"currentColor\" x=\"1150\">NOUN</tspan>\n",
       "</text>\n",
       "\n",
       "<text class=\"displacy-token\" fill=\"currentColor\" text-anchor=\"middle\" y=\"247.0\">\n",
       "    <tspan class=\"displacy-word\" fill=\"currentColor\" x=\"1250\">etici:</tspan>\n",
       "    <tspan class=\"displacy-tag\" dy=\"2em\" fill=\"currentColor\" x=\"1250\">ADJ</tspan>\n",
       "</text>\n",
       "\n",
       "<g class=\"displacy-arrow\">\n",
       "    <path class=\"displacy-arc\" id=\"arrow-be7462e2656446ac9febd40c22e9931f-0-0\" stroke-width=\"2px\" d=\"M62,202.0 62,185.33333333333334 141.0,185.33333333333334 141.0,202.0\" fill=\"none\" stroke=\"currentColor\"/>\n",
       "    <text dy=\"1.25em\" style=\"font-size: 0.8em; letter-spacing: 1px\">\n",
       "        <textPath xlink:href=\"#arrow-be7462e2656446ac9febd40c22e9931f-0-0\" class=\"displacy-label\" startOffset=\"50%\" side=\"left\" fill=\"currentColor\" text-anchor=\"middle\">det</textPath>\n",
       "    </text>\n",
       "    <path class=\"displacy-arrowhead\" d=\"M62,204.0 L58,196.0 66,196.0\" fill=\"currentColor\"/>\n",
       "</g>\n",
       "\n",
       "<g class=\"displacy-arrow\">\n",
       "    <path class=\"displacy-arc\" id=\"arrow-be7462e2656446ac9febd40c22e9931f-0-1\" stroke-width=\"2px\" d=\"M162,202.0 162,152.0 447.0,152.0 447.0,202.0\" fill=\"none\" stroke=\"currentColor\"/>\n",
       "    <text dy=\"1.25em\" style=\"font-size: 0.8em; letter-spacing: 1px\">\n",
       "        <textPath xlink:href=\"#arrow-be7462e2656446ac9febd40c22e9931f-0-1\" class=\"displacy-label\" startOffset=\"50%\" side=\"left\" fill=\"currentColor\" text-anchor=\"middle\">nsubj</textPath>\n",
       "    </text>\n",
       "    <path class=\"displacy-arrowhead\" d=\"M162,204.0 L158,196.0 166,196.0\" fill=\"currentColor\"/>\n",
       "</g>\n",
       "\n",
       "<g class=\"displacy-arrow\">\n",
       "    <path class=\"displacy-arc\" id=\"arrow-be7462e2656446ac9febd40c22e9931f-0-2\" stroke-width=\"2px\" d=\"M262,202.0 262,168.66666666666666 444.0,168.66666666666666 444.0,202.0\" fill=\"none\" stroke=\"currentColor\"/>\n",
       "    <text dy=\"1.25em\" style=\"font-size: 0.8em; letter-spacing: 1px\">\n",
       "        <textPath xlink:href=\"#arrow-be7462e2656446ac9febd40c22e9931f-0-2\" class=\"displacy-label\" startOffset=\"50%\" side=\"left\" fill=\"currentColor\" text-anchor=\"middle\">cop</textPath>\n",
       "    </text>\n",
       "    <path class=\"displacy-arrowhead\" d=\"M262,204.0 L258,196.0 266,196.0\" fill=\"currentColor\"/>\n",
       "</g>\n",
       "\n",
       "<g class=\"displacy-arrow\">\n",
       "    <path class=\"displacy-arc\" id=\"arrow-be7462e2656446ac9febd40c22e9931f-0-3\" stroke-width=\"2px\" d=\"M362,202.0 362,185.33333333333334 441.0,185.33333333333334 441.0,202.0\" fill=\"none\" stroke=\"currentColor\"/>\n",
       "    <text dy=\"1.25em\" style=\"font-size: 0.8em; letter-spacing: 1px\">\n",
       "        <textPath xlink:href=\"#arrow-be7462e2656446ac9febd40c22e9931f-0-3\" class=\"displacy-label\" startOffset=\"50%\" side=\"left\" fill=\"currentColor\" text-anchor=\"middle\">det</textPath>\n",
       "    </text>\n",
       "    <path class=\"displacy-arrowhead\" d=\"M362,204.0 L358,196.0 366,196.0\" fill=\"currentColor\"/>\n",
       "</g>\n",
       "\n",
       "<g class=\"displacy-arrow\">\n",
       "    <path class=\"displacy-arc\" id=\"arrow-be7462e2656446ac9febd40c22e9931f-0-4\" stroke-width=\"2px\" d=\"M562,202.0 562,185.33333333333334 641.0,185.33333333333334 641.0,202.0\" fill=\"none\" stroke=\"currentColor\"/>\n",
       "    <text dy=\"1.25em\" style=\"font-size: 0.8em; letter-spacing: 1px\">\n",
       "        <textPath xlink:href=\"#arrow-be7462e2656446ac9febd40c22e9931f-0-4\" class=\"displacy-label\" startOffset=\"50%\" side=\"left\" fill=\"currentColor\" text-anchor=\"middle\">case</textPath>\n",
       "    </text>\n",
       "    <path class=\"displacy-arrowhead\" d=\"M562,204.0 L558,196.0 566,196.0\" fill=\"currentColor\"/>\n",
       "</g>\n",
       "\n",
       "<g class=\"displacy-arrow\">\n",
       "    <path class=\"displacy-arc\" id=\"arrow-be7462e2656446ac9febd40c22e9931f-0-5\" stroke-width=\"2px\" d=\"M462,202.0 462,168.66666666666666 644.0,168.66666666666666 644.0,202.0\" fill=\"none\" stroke=\"currentColor\"/>\n",
       "    <text dy=\"1.25em\" style=\"font-size: 0.8em; letter-spacing: 1px\">\n",
       "        <textPath xlink:href=\"#arrow-be7462e2656446ac9febd40c22e9931f-0-5\" class=\"displacy-label\" startOffset=\"50%\" side=\"left\" fill=\"currentColor\" text-anchor=\"middle\">nmod</textPath>\n",
       "    </text>\n",
       "    <path class=\"displacy-arrowhead\" d=\"M644.0,204.0 L648.0,196.0 640.0,196.0\" fill=\"currentColor\"/>\n",
       "</g>\n",
       "\n",
       "<g class=\"displacy-arrow\">\n",
       "    <path class=\"displacy-arc\" id=\"arrow-be7462e2656446ac9febd40c22e9931f-0-6\" stroke-width=\"2px\" d=\"M462,202.0 462,152.0 747.0,152.0 747.0,202.0\" fill=\"none\" stroke=\"currentColor\"/>\n",
       "    <text dy=\"1.25em\" style=\"font-size: 0.8em; letter-spacing: 1px\">\n",
       "        <textPath xlink:href=\"#arrow-be7462e2656446ac9febd40c22e9931f-0-6\" class=\"displacy-label\" startOffset=\"50%\" side=\"left\" fill=\"currentColor\" text-anchor=\"middle\">amod</textPath>\n",
       "    </text>\n",
       "    <path class=\"displacy-arrowhead\" d=\"M747.0,204.0 L751.0,196.0 743.0,196.0\" fill=\"currentColor\"/>\n",
       "</g>\n",
       "\n",
       "<g class=\"displacy-arrow\">\n",
       "    <path class=\"displacy-arc\" id=\"arrow-be7462e2656446ac9febd40c22e9931f-0-7\" stroke-width=\"2px\" d=\"M862,202.0 862,152.0 1147.0,152.0 1147.0,202.0\" fill=\"none\" stroke=\"currentColor\"/>\n",
       "    <text dy=\"1.25em\" style=\"font-size: 0.8em; letter-spacing: 1px\">\n",
       "        <textPath xlink:href=\"#arrow-be7462e2656446ac9febd40c22e9931f-0-7\" class=\"displacy-label\" startOffset=\"50%\" side=\"left\" fill=\"currentColor\" text-anchor=\"middle\">case</textPath>\n",
       "    </text>\n",
       "    <path class=\"displacy-arrowhead\" d=\"M862,204.0 L858,196.0 866,196.0\" fill=\"currentColor\"/>\n",
       "</g>\n",
       "\n",
       "<g class=\"displacy-arrow\">\n",
       "    <path class=\"displacy-arc\" id=\"arrow-be7462e2656446ac9febd40c22e9931f-0-8\" stroke-width=\"2px\" d=\"M962,202.0 962,168.66666666666666 1144.0,168.66666666666666 1144.0,202.0\" fill=\"none\" stroke=\"currentColor\"/>\n",
       "    <text dy=\"1.25em\" style=\"font-size: 0.8em; letter-spacing: 1px\">\n",
       "        <textPath xlink:href=\"#arrow-be7462e2656446ac9febd40c22e9931f-0-8\" class=\"displacy-label\" startOffset=\"50%\" side=\"left\" fill=\"currentColor\" text-anchor=\"middle\">nummod</textPath>\n",
       "    </text>\n",
       "    <path class=\"displacy-arrowhead\" d=\"M962,204.0 L958,196.0 966,196.0\" fill=\"currentColor\"/>\n",
       "</g>\n",
       "\n",
       "<g class=\"displacy-arrow\">\n",
       "    <path class=\"displacy-arc\" id=\"arrow-be7462e2656446ac9febd40c22e9931f-0-9\" stroke-width=\"2px\" d=\"M1062,202.0 1062,185.33333333333334 1141.0,185.33333333333334 1141.0,202.0\" fill=\"none\" stroke=\"currentColor\"/>\n",
       "    <text dy=\"1.25em\" style=\"font-size: 0.8em; letter-spacing: 1px\">\n",
       "        <textPath xlink:href=\"#arrow-be7462e2656446ac9febd40c22e9931f-0-9\" class=\"displacy-label\" startOffset=\"50%\" side=\"left\" fill=\"currentColor\" text-anchor=\"middle\">amod</textPath>\n",
       "    </text>\n",
       "    <path class=\"displacy-arrowhead\" d=\"M1062,204.0 L1058,196.0 1066,196.0\" fill=\"currentColor\"/>\n",
       "</g>\n",
       "\n",
       "<g class=\"displacy-arrow\">\n",
       "    <path class=\"displacy-arc\" id=\"arrow-be7462e2656446ac9febd40c22e9931f-0-10\" stroke-width=\"2px\" d=\"M762,202.0 762,135.33333333333331 1150.0,135.33333333333331 1150.0,202.0\" fill=\"none\" stroke=\"currentColor\"/>\n",
       "    <text dy=\"1.25em\" style=\"font-size: 0.8em; letter-spacing: 1px\">\n",
       "        <textPath xlink:href=\"#arrow-be7462e2656446ac9febd40c22e9931f-0-10\" class=\"displacy-label\" startOffset=\"50%\" side=\"left\" fill=\"currentColor\" text-anchor=\"middle\">obl</textPath>\n",
       "    </text>\n",
       "    <path class=\"displacy-arrowhead\" d=\"M1150.0,204.0 L1154.0,196.0 1146.0,196.0\" fill=\"currentColor\"/>\n",
       "</g>\n",
       "\n",
       "<g class=\"displacy-arrow\">\n",
       "    <path class=\"displacy-arc\" id=\"arrow-be7462e2656446ac9febd40c22e9931f-0-11\" stroke-width=\"2px\" d=\"M1162,202.0 1162,185.33333333333334 1241.0,185.33333333333334 1241.0,202.0\" fill=\"none\" stroke=\"currentColor\"/>\n",
       "    <text dy=\"1.25em\" style=\"font-size: 0.8em; letter-spacing: 1px\">\n",
       "        <textPath xlink:href=\"#arrow-be7462e2656446ac9febd40c22e9931f-0-11\" class=\"displacy-label\" startOffset=\"50%\" side=\"left\" fill=\"currentColor\" text-anchor=\"middle\">amod</textPath>\n",
       "    </text>\n",
       "    <path class=\"displacy-arrowhead\" d=\"M1241.0,204.0 L1245.0,196.0 1237.0,196.0\" fill=\"currentColor\"/>\n",
       "</g>\n",
       "</svg></span>"
      ],
      "text/plain": [
       "<IPython.core.display.HTML object>"
      ]
     },
     "metadata": {},
     "output_type": "display_data"
    }
   ],
   "source": [
    "displacy.render(docs['en'][0], style='dep', jupyter=True, options={'compact': True, 'distance':100})\n",
    "displacy.render(docs['it'][0], style='dep', jupyter=True, options={'compact': True, 'distance':100})"
   ]
  },
  {
   "cell_type": "code",
   "execution_count": 17,
   "id": "b1d3ce9e-698c-41bf-ac0c-4f56854116e3",
   "metadata": {},
   "outputs": [],
   "source": [
    "def to_nltk_tree(node):\n",
    "    if node.n_lefts + node.n_rights > 0:\n",
    "        return Tree(node.pos_, [Tree(node.orth_, [to_nltk_tree(child) for child in node.children])])\n",
    "    else:\n",
    "        return Tree(node.pos_, [node.orth_])\n",
    "\n",
    "def syntactic_parsing(doc):\n",
    "    return [to_nltk_tree(list(sentence.sents)[0].root) for sentence in tqdm(doc)]"
   ]
  },
  {
   "cell_type": "code",
   "execution_count": 18,
   "id": "0b200f0e-c8b1-42c6-891f-4a76fc472df0",
   "metadata": {},
   "outputs": [
    {
     "name": "stdout",
     "output_type": "stream",
     "text": [
      "Retrieving Syntactic Parsing for EN doc:\n"
     ]
    },
    {
     "data": {
      "application/vnd.jupyter.widget-view+json": {
       "model_id": "9d3cc912e81a4de7a142696f5190704f",
       "version_major": 2,
       "version_minor": 0
      },
      "text/plain": [
       "  0%|          | 0/100000 [00:00<?, ?it/s]"
      ]
     },
     "metadata": {},
     "output_type": "display_data"
    },
    {
     "name": "stdout",
     "output_type": "stream",
     "text": [
      "Retrieving Syntactic Parsing for IT doc:\n"
     ]
    },
    {
     "data": {
      "application/vnd.jupyter.widget-view+json": {
       "model_id": "d7a657aacc4b4e9ea07554e5df0cd851",
       "version_major": 2,
       "version_minor": 0
      },
      "text/plain": [
       "  0%|          | 0/100000 [00:00<?, ?it/s]"
      ]
     },
     "metadata": {},
     "output_type": "display_data"
    }
   ],
   "source": [
    "synt_pars_tags = {}\n",
    "for lang in languages:\n",
    "    print(f'Retrieving Syntactic Parsing for {lang.upper()} doc:')\n",
    "    synt_pars_tags[lang] = syntactic_parsing(docs[lang])"
   ]
  },
  {
   "cell_type": "code",
   "execution_count": 19,
   "id": "539a5f1f-a426-4d9b-96a4-6250612bc394",
   "metadata": {},
   "outputs": [
    {
     "name": "stdout",
     "output_type": "stream",
     "text": [
      "                   AUX                            \n",
      "                    |                              \n",
      "                    is                            \n",
      "      ______________|__________________________    \n",
      "     |             NOUN                        |  \n",
      "     |              |                          |   \n",
      "     |           science                       |  \n",
      "     |         _____|____________              |   \n",
      "     |        |     |           VERB           |  \n",
      "     |        |     |            |             |   \n",
      "     |        |     |          based           |  \n",
      "     |        |     |            |             |   \n",
      "     |        |     |           ADP            |  \n",
      "     |        |     |            |             |   \n",
      "     |        |     |            on            |  \n",
      "     |        |     |            |             |   \n",
      "     |        |     |           NOUN           |  \n",
      "     |        |     |            |             |   \n",
      "     |        |     |          ethics          |  \n",
      "     |        |     |       _____|______       |   \n",
      "    NOUN     DET   NOUN   NUM          ADJ   PUNCT\n",
      "     |        |     |      |            |      |   \n",
      "Permaculture  a   design three        simple   :  \n",
      "\n",
      "=>\n",
      "                                    NOUN                               \n",
      "                                     |                                  \n",
      "                                   metodo                              \n",
      "      _______________________________|______________________________    \n",
      "     |        |   |        |                ADJ                     |  \n",
      "     |        |   |        |                 |                      |   \n",
      "     |        |   |        |               basato                   |  \n",
      "     |        |   |        |                 |                      |   \n",
      "    NOUN      |   |       NOUN              NOUN                    |  \n",
      "     |        |   |        |                 |                      |   \n",
      "permacultura  |   |  progettazione        principi                  |  \n",
      "     |        |   |        |          _______|________________      |   \n",
      "    DET      AUX DET      ADP       ADP     NUM      ADJ     ADJ  PUNCT\n",
      "     |        |   |        |         |       |        |       |     |   \n",
      "     La       è   un       di        su     tre    semplici etici   :  \n",
      "\n"
     ]
    }
   ],
   "source": [
    "synt_pars_tags['en'][0].pretty_print()\n",
    "print('=>')\n",
    "synt_pars_tags['it'][0].pretty_print()"
   ]
  },
  {
   "cell_type": "markdown",
   "id": "a0f10b94-9ea3-4f23-af4b-0953e9de045d",
   "metadata": {},
   "source": [
    "### Syntactic Transfer (TODO)"
   ]
  },
  {
   "cell_type": "code",
   "execution_count": null,
   "id": "5284e887-fab9-40bc-b3ea-39e947f0d4d1",
   "metadata": {},
   "outputs": [],
   "source": []
  },
  {
   "cell_type": "markdown",
   "id": "5913da9b-a5cb-4be7-85e5-2b56892c2112",
   "metadata": {},
   "source": [
    "## RBMT Model (TODO)"
   ]
  },
  {
   "cell_type": "code",
   "execution_count": null,
   "id": "045e37cc-a202-4551-aa11-a7a807a51f94",
   "metadata": {},
   "outputs": [],
   "source": []
  },
  {
   "cell_type": "markdown",
   "id": "5ea4b2cc-9fdd-4d06-88f0-c315b6b67512",
   "metadata": {},
   "source": [
    "## Sources\n"
   ]
  },
  {
   "cell_type": "markdown",
   "id": "a5715220-42c0-4f39-b330-29c59813bb00",
   "metadata": {},
   "source": [
    "DS:\n",
    "- https://opus.nlpl.eu/OpenSubtitles.php\n",
    "- http://www.opensubtitles.org/\n",
    "\n",
    "General:\n",
    "- https://machinetranslate.org/\n",
    "- https://towardsdatascience.com/machine-translation-b0f0dbcef47c\n",
    "- https://towardsdatascience.com/data-preprocessing-for-machine-translation-fcbedef0e26a\n",
    "\n",
    "Evalutation:\n",
    "- https://towardsdatascience.com/bleu-bilingual-evaluation-understudy-2b4eab9bcfd1\n",
    "\n",
    "Rule Based model: \n",
    "- https://link.springer.com/article/10.1007/s10590-021-09260-6"
   ]
  }
 ],
 "metadata": {
  "kernelspec": {
   "display_name": "Python 3 (ipykernel)",
   "language": "python",
   "name": "python3"
  },
  "language_info": {
   "codemirror_mode": {
    "name": "ipython",
    "version": 3
   },
   "file_extension": ".py",
   "mimetype": "text/x-python",
   "name": "python",
   "nbconvert_exporter": "python",
   "pygments_lexer": "ipython3",
   "version": "3.9.5"
  },
  "toc-autonumbering": true
 },
 "nbformat": 4,
 "nbformat_minor": 5
}
